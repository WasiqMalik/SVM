{
  "nbformat": 4,
  "nbformat_minor": 0,
  "metadata": {
    "colab": {
      "name": "SVM Assignment.ipynb",
      "provenance": [],
      "collapsed_sections": []
    },
    "kernelspec": {
      "name": "python3",
      "display_name": "Python 3"
    }
  },
  "cells": [
    {
      "cell_type": "code",
      "metadata": {
        "id": "iTxtO_A2uDlh"
      },
      "source": [
        "import sklearn\n",
        "from sklearn import datasets\n",
        "import numpy as np\n",
        "from sklearn import svm"
      ],
      "execution_count": 1,
      "outputs": []
    },
    {
      "cell_type": "code",
      "metadata": {
        "id": "1V5Ve81gjXdu"
      },
      "source": [
        "# Iris Fisher Dataset\n",
        "\n",
        "iris = datasets.load_iris()\n",
        "iris_X = iris.data\n",
        "\n",
        "iris_y = iris.target\n",
        "np.random.seed(42)\n",
        "indices = np.random.permutation(len(iris_X))\n",
        "iris_X_train = iris_X[indices[:-40]]\n",
        "iris_y_train = iris_y[indices[:-40]]\n",
        "iris_X_valid = iris_X[indices[-40:-20]]\n",
        "iris_y_valid = iris_y[indices[-40:-20]]\n",
        "iris_X_test = iris_X[indices[-20:]]\n",
        "iris_y_test = iris_y[indices[-20:]]\n"
      ],
      "execution_count": 2,
      "outputs": []
    },
    {
      "cell_type": "code",
      "metadata": {
        "colab": {
          "base_uri": "https://localhost:8080/"
        },
        "id": "tz2rpaUwjxmG",
        "outputId": "0f070184-af05-43b7-b756-180c2b8c03fb"
      },
      "source": [
        "# SVM Linear Classifier\n",
        "\n",
        "svc = svm.SVC(kernel=\"linear\")\n",
        "svc.fit(iris_X_train, iris_y_train)\n",
        "\n",
        "predictions = svc.predict(iris_X_test)\n",
        "\n",
        "acc = sklearn.metrics.accuracy_score(iris_y_test, predictions)\n",
        "print(f\"Accuracy: {acc*100}%\")"
      ],
      "execution_count": 3,
      "outputs": [
        {
          "output_type": "stream",
          "text": [
            "Accuracy: 95.0%\n"
          ],
          "name": "stdout"
        }
      ]
    },
    {
      "cell_type": "code",
      "metadata": {
        "colab": {
          "base_uri": "https://localhost:8080/"
        },
        "id": "yfP2wDhXlZya",
        "outputId": "f62b1e5c-a19b-41ec-c4d5-b78d6d4b87c5"
      },
      "source": [
        "# Optimal value of C for SVM\n",
        "\n",
        "_range = [i/100 for i in range(1,100)]\n",
        "max_acc = 0\n",
        "optim_c = 0\n",
        "for c in _range:\n",
        "  svc = svm.SVC(C=c, kernel=\"linear\")\n",
        "  svc.fit(iris_X_train, iris_y_train)\n",
        "  predictions = svc.predict(iris_X_valid)\n",
        "  acc = sklearn.metrics.accuracy_score(iris_y_valid, predictions)\n",
        "  if acc > max_acc:\n",
        "    max_acc = acc\n",
        "    optim_c = c\n",
        "\n",
        "print(f\"Value of C: {optim_c}  Accuracy: {max_acc*100}%\")\n",
        "\n"
      ],
      "execution_count": 4,
      "outputs": [
        {
          "output_type": "stream",
          "text": [
            "Value of C: 0.06  Accuracy: 100.0%\n"
          ],
          "name": "stdout"
        }
      ]
    },
    {
      "cell_type": "code",
      "metadata": {
        "colab": {
          "base_uri": "https://localhost:8080/"
        },
        "id": "wSQEucfhoZOk",
        "outputId": "3be89681-aae3-4a37-e471-939c334de442"
      },
      "source": [
        "# Optimal value of C and gamma for non-linear SVM\n",
        "\n",
        "_range = [i/100 for i in range(1,100)]\n",
        "max_acc = 0\n",
        "optim_c = 0\n",
        "for c in _range:\n",
        "  svc = svm.SVC(C=c, gamma='auto', kernel=\"rbf\")\n",
        "  svc.fit(iris_X_train, iris_y_train)\n",
        "  predictions = svc.predict(iris_X_valid)\n",
        "  acc = sklearn.metrics.accuracy_score(iris_y_valid, predictions)\n",
        "  if acc > max_acc:\n",
        "    max_acc = acc\n",
        "    optim_c = c\n",
        "\n",
        "print(f\"Value of C: {optim_c}  Accuracy: {max_acc*100}%\")\n",
        "\n"
      ],
      "execution_count": 5,
      "outputs": [
        {
          "output_type": "stream",
          "text": [
            "Value of C: 0.52  Accuracy: 100.0%\n"
          ],
          "name": "stdout"
        }
      ]
    },
    {
      "cell_type": "code",
      "metadata": {
        "id": "dfw0Nm7ZpVlV"
      },
      "source": [
        "# Visualization \n",
        "\n",
        "%matplotlib inline\n",
        "import matplotlib.pyplot as plt\n",
        "def plot_contours(ax, clf, xx, yy, **params):\n",
        "  \"\"\"Plot the decision boundaries for a classifier.\n",
        "  Parameters\n",
        "  ----------\n",
        "  ax: matplotlib axes object\n",
        "  clf: a classifier\n",
        "  xx: meshgrid ndarray\n",
        "  yy: meshgrid ndarray\n",
        "  params: dictionary of params to pass to contourf, optional\n",
        "  \"\"\"\n",
        "  Z = clf.predict(np.c_[xx.ravel(), yy.ravel()])\n",
        "  Z = Z.reshape(xx.shape)\n",
        "  out = ax.contourf(xx, yy, Z, **params)\n",
        "  return out\n",
        "\n",
        "def make_meshgrid(x, y, h=.02):\n",
        "  x_min, x_max = x.min() - 1, x.max() + 1\n",
        "  y_min, y_max = y.min() - 1, y.max() + 1\n",
        "  xx, yy = np.meshgrid(np.arange(x_min, x_max, h),\n",
        "  np.arange(y_min, y_max, h))\n",
        "  return xx, yy\n",
        "\n",
        "\n"
      ],
      "execution_count": 6,
      "outputs": []
    },
    {
      "cell_type": "code",
      "metadata": {
        "id": "vOpYLNjQsBBU"
      },
      "source": [
        "# Visualization \n",
        "\n",
        "iris_X = iris_X[:, :2]\n",
        "\n",
        "iris_X_train = iris_X[indices[:-40]]\n",
        "iris_y_train = iris_y[indices[:-40]]\n",
        "iris_X_valid = iris_X[indices[-40:-20]]\n",
        "iris_y_valid = iris_y[indices[-40:-20]]\n",
        "iris_X_test = iris_X[indices[-20:]]\n",
        "iris_y_test = iris_y[indices[-20:]]"
      ],
      "execution_count": 7,
      "outputs": []
    },
    {
      "cell_type": "code",
      "metadata": {
        "colab": {
          "base_uri": "https://localhost:8080/",
          "height": 626
        },
        "id": "Xnfm93iQp_p3",
        "outputId": "e52d3d64-5aa8-4a5a-9e02-6382efb3e4c3"
      },
      "source": [
        "# Visualization \n",
        "_range = [i/100 for i in range(1,100)]\n",
        "max_acc = 0\n",
        "optim_c = 0\n",
        "for c in _range:\n",
        "  svc = svm.SVC(C=c, gamma='auto', kernel=\"rbf\")\n",
        "  svc.fit(iris_X_train, iris_y_train)\n",
        "  predictions = svc.predict(iris_X_valid)\n",
        "  acc = sklearn.metrics.accuracy_score(iris_y_valid, predictions)\n",
        "  if acc > max_acc:\n",
        "    max_acc = acc\n",
        "    optim_c = c\n",
        "\n",
        "print(f\"Optimal Value of C: {optim_c}  Accuracy: {max_acc*100}%\")\n",
        "\n",
        "svc = svm.SVC(kernel='rbf', gamma='auto', C=optim_c)\n",
        "pred = svc.fit(iris_X_train, iris_y_train)\n",
        "pred = svc.predict(iris_X_train)\n",
        "train_acc = sklearn.metrics.accuracy_score(iris_y_train, pred)\n",
        "print(f\"Train Accuracy: {train_acc*100:.2f}%\")\n",
        "\n",
        "U, V = iris_X_train[:, 0], iris_X_train[:, 1]\n",
        "xx, yy = make_meshgrid(U, V)\n",
        "figsize = 10\n",
        "fig = plt.figure(figsize=(figsize,figsize))\n",
        "ax = plt.subplot(111)\n",
        "plot_contours(ax, svc, xx, yy, cmap=plt.cm.coolwarm, alpha=0.8)\n",
        "ax.scatter(U, V, c=iris_y_train, cmap=plt.cm.coolwarm, s=20, edgecolors='k')\n",
        "ax.set_xlim(xx.min(), xx.max())\n",
        "\n",
        "ax.set_ylim(yy.min(), yy.max())\n",
        "plt.show()"
      ],
      "execution_count": 8,
      "outputs": [
        {
          "output_type": "stream",
          "text": [
            "Optimal Value of C: 0.46  Accuracy: 85.0%\n",
            "Train Accuracy: 84.55%\n"
          ],
          "name": "stdout"
        },
        {
          "output_type": "display_data",
          "data": {
            "image/png": "[encoded data removed]",
            "text/plain": [
              "<Figure size 720x720 with 1 Axes>"
            ]
          },
          "metadata": {
            "tags": [],
            "needs_background": "light"
          }
        }
      ]
    }
  ]
}