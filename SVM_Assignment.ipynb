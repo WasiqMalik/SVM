{
  "nbformat": 4,
  "nbformat_minor": 0,
  "metadata": {
    "colab": {
      "name": "SVM Assignment.ipynb",
      "provenance": [],
      "collapsed_sections": []
    },
    "kernelspec": {
      "name": "python3",
      "display_name": "Python 3"
    }
  },
  "cells": [
    {
      "cell_type": "markdown",
      "metadata": {
        "id": "2EZDAjUTEIjj"
      },
      "source": [
        "# **Data Science - Assignment 3**\n",
        "# Ather Fawaz [17L-4004]\n",
        "# Muhammad Wasiq [17L-6315] "
      ]
    },
    {
      "cell_type": "code",
      "metadata": {
        "id": "iTxtO_A2uDlh"
      },
      "source": [
        "import sklearn\n",
        "from sklearn import datasets\n",
        "import numpy as np\n",
        "from sklearn import svm\n",
        "from sklearn.model_selection import KFold"
      ],
      "execution_count": 31,
      "outputs": []
    },
    {
      "cell_type": "markdown",
      "metadata": {
        "id": "_jpSfYg6_095"
      },
      "source": [
        "# Preparing the Iris Fisher Dataset\n",
        "K-Fold Cross Validation: k=5 \n",
        "\n",
        "Test Set: 30 Samples\n",
        "\n",
        "Cross-Val Set: 20 Samples\n",
        "\n",
        "Train Set: 100 Samples"
      ]
    },
    {
      "cell_type": "code",
      "metadata": {
        "id": "1V5Ve81gjXdu",
        "colab": {
          "base_uri": "https://localhost:8080/"
        },
        "outputId": "230743a8-f1d4-4e28-ea36-55bae43fa914"
      },
      "source": [
        "# Iris Fisher Dataset\n",
        "\n",
        "iris = datasets.load_iris()\n",
        "iris_X = iris.data\n",
        "iris_y = iris.target\n",
        "\n",
        "np.random.seed(42)\n",
        "indices = np.random.permutation(len(iris_X))\n",
        "\n",
        "# test set\n",
        "iris_X_test = iris_X[indices[-30:]]\n",
        "iris_y_test = iris_y[indices[-30:]]\n",
        "\n",
        "\n",
        "# train/val set\n",
        "iris_X = iris_X[indices[:-30]]\n",
        "iris_y = iris_y[indices[:-30]]\n",
        "\n",
        "folds = 5\n",
        "k_folder = KFold(n_splits=folds)\n",
        "k_folder.get_n_splits(iris_X)\n"
      ],
      "execution_count": 34,
      "outputs": [
        {
          "output_type": "execute_result",
          "data": {
            "text/plain": [
              "5"
            ]
          },
          "metadata": {
            "tags": []
          },
          "execution_count": 34
        }
      ]
    },
    {
      "cell_type": "markdown",
      "metadata": {
        "id": "NgiM43Xm4DSe"
      },
      "source": [
        "# Experiment #1: Control\n",
        "SVM Classifier: Linear\n",
        "\n",
        "No k-fold Cross Validation\n",
        "\n",
        "Value of C: 1.0 (Default)\n",
        "\n",
        "**Results**\n",
        "\n",
        "Train Accuracy: 98.33%\n",
        "\n",
        "Test Accuracy: 96.67%"
      ]
    },
    {
      "cell_type": "code",
      "metadata": {
        "colab": {
          "base_uri": "https://localhost:8080/"
        },
        "id": "tz2rpaUwjxmG",
        "outputId": "9ec3328c-6dd4-4d54-c511-2d81b230758f"
      },
      "source": [
        "# SVM Linear Classifier\n",
        "\n",
        "svc = svm.SVC(kernel=\"linear\")\n",
        "svc.fit(iris_X, iris_y)\n",
        "\n",
        "predictions = svc.predict(iris_X)\n",
        "acc = sklearn.metrics.accuracy_score(iris_y, predictions)\n",
        "print(f\"Train Accuracy: {acc*100:.2f}%\")\n",
        "\n",
        "predictions = svc.predict(iris_X_test)\n",
        "acc = sklearn.metrics.accuracy_score(iris_y_test, predictions)\n",
        "print(f\"Test Accuracy: {acc*100:.2f}%\")"
      ],
      "execution_count": 36,
      "outputs": [
        {
          "output_type": "stream",
          "text": [
            "Train Accuracy: 98.33%\n",
            "Test Accuracy: 96.67%\n"
          ],
          "name": "stdout"
        }
      ]
    },
    {
      "cell_type": "markdown",
      "metadata": {
        "id": "VpWGKhMxAvWE"
      },
      "source": [
        "# Experiment #2: Optimised Hyperparameters for Linear SVM\n",
        "5 fold Cross Validation\n",
        "\n",
        "Optimal Value of C: 0.79\n",
        "\n",
        "**Results**\n",
        "\n",
        "Train Accuracy: 99.17%\n",
        "\n",
        "Test Accuracy: 96.67%"
      ]
    },
    {
      "cell_type": "code",
      "metadata": {
        "colab": {
          "base_uri": "https://localhost:8080/"
        },
        "id": "yfP2wDhXlZya",
        "outputId": "8fc28df0-8458-411a-8d25-6f83f9612052"
      },
      "source": [
        "# Optimal value of C for linear SVM\n",
        "\n",
        "_range = [i/100 for i in range(1,100)]\n",
        "\n",
        "max_acc = 0\n",
        "optim_c = 0\n",
        "for c in _range:\n",
        "  avg_acc = 0\n",
        "  for train_index, test_index in k_folder.split(iris_X):\n",
        "    X_train, X_test = iris_X[train_index], iris_X[test_index]\n",
        "    y_train, y_test = iris_y[train_index], iris_y[test_index]\n",
        "\n",
        "    svc = svm.SVC(C=c, kernel=\"linear\")\n",
        "    svc.fit(X_train, y_train)\n",
        "\n",
        "    predictions = svc.predict(X_test)\n",
        "    acc = sklearn.metrics.accuracy_score(y_test, predictions)\n",
        "    avg_acc += acc\n",
        "\n",
        "  avg_acc = avg_acc/folds\n",
        "  if  avg_acc > max_acc:\n",
        "    max_acc = avg_acc\n",
        "    optim_c = c\n",
        "\n",
        "print(f\"Value of C: {optim_c}  \\nAccuracy: {max_acc*100:.2f}%\")\n"
      ],
      "execution_count": 18,
      "outputs": [
        {
          "output_type": "stream",
          "text": [
            "Value of C: 0.79  \n",
            "Accuracy: 99.17%\n"
          ],
          "name": "stdout"
        }
      ]
    },
    {
      "cell_type": "code",
      "metadata": {
        "colab": {
          "base_uri": "https://localhost:8080/"
        },
        "id": "Pzoa7HM-9jXQ",
        "outputId": "53a1958b-e2e8-4551-9067-6bcc0170b5ba"
      },
      "source": [
        "# Testing Linear SVM using optimal hyperparamters\n",
        "predictions = svc.predict(iris_X_test)\n",
        "\n",
        "acc = sklearn.metrics.accuracy_score(iris_y_test, predictions)\n",
        "print(f\"Test Accuracy: {acc*100:.2f}%\")"
      ],
      "execution_count": 19,
      "outputs": [
        {
          "output_type": "stream",
          "text": [
            "Test Accuracy: 96.67%\n"
          ],
          "name": "stdout"
        }
      ]
    },
    {
      "cell_type": "markdown",
      "metadata": {
        "id": "l-7lrUJnB--3"
      },
      "source": [
        "# Experiment #3: Optimised Hyperparameters for RBF SVM\n",
        "5 fold Cross Validation\n",
        "\n",
        "Optimal Value of C: 0.97\n",
        "\n",
        "Optimal Value of gamma: 0.24\n",
        "\n",
        "**Results**\n",
        "\n",
        "Train Accuracy: 98.33%\n",
        "\n",
        "Test Accuracy: 96.67%"
      ]
    },
    {
      "cell_type": "code",
      "metadata": {
        "colab": {
          "base_uri": "https://localhost:8080/"
        },
        "id": "wSQEucfhoZOk",
        "outputId": "0f5c7e4e-5ec3-4fba-d832-925891470793"
      },
      "source": [
        "# Optimal value of C and gamma for non-linear SVM\n",
        "\n",
        "C_range = [i/100 for i in range(1,100)]\n",
        "gamma_range = [i/100 for i in range(1,100)]\n",
        "max_acc = 0\n",
        "optim_c = 0\n",
        "optim_gamma = 0\n",
        "\n",
        "\n",
        "for Gamma in gamma_range:\n",
        "    for c in C_range:\n",
        "        avg_acc = 0\n",
        "        for train_index, test_index in k_folder.split(iris_X):\n",
        "            X_train, X_test = iris_X[train_index], iris_X[test_index]\n",
        "            y_train, y_test = iris_y[train_index], iris_y[test_index]\n",
        "\n",
        "            svc = svm.SVC(C=c, gamma=Gamma, kernel=\"rbf\")\n",
        "            svc.fit(X_train, y_train)\n",
        "\n",
        "            predictions = svc.predict(X_test)\n",
        "            acc = sklearn.metrics.accuracy_score(y_test, predictions)\n",
        "            avg_acc += acc\n",
        "\n",
        "        avg_acc = avg_acc/folds\n",
        "        if  avg_acc > max_acc:\n",
        "            max_acc = avg_acc\n",
        "            optim_c = c\n",
        "            optim_gamma = Gamma\n",
        "\n",
        "print(f\"Optimal Value of C: {optim_c} \\nOptimal Value of Gamma: {optim_gamma}  \\nAccuracy: {max_acc*100:.2f}%\")\n",
        "\n"
      ],
      "execution_count": 20,
      "outputs": [
        {
          "output_type": "stream",
          "text": [
            "Optimal Value of C: 0.97 \n",
            "Optimal Value of Gamma: 0.24  \n",
            "Accuracy: 98.33%\n"
          ],
          "name": "stdout"
        }
      ]
    },
    {
      "cell_type": "code",
      "metadata": {
        "colab": {
          "base_uri": "https://localhost:8080/"
        },
        "id": "9XD2ZsMx9dS1",
        "outputId": "f95e8262-c302-457d-b775-1a62389f3514"
      },
      "source": [
        "# Testing rbf SVM using optimal hyperparamters\n",
        "predictions = svc.predict(iris_X_test)\n",
        "\n",
        "acc = sklearn.metrics.accuracy_score(iris_y_test, predictions)\n",
        "print(f\"Test Accuracy: {acc*100:.2f}%\")"
      ],
      "execution_count": 21,
      "outputs": [
        {
          "output_type": "stream",
          "text": [
            "Test Accuracy: 96.67%\n"
          ],
          "name": "stdout"
        }
      ]
    },
    {
      "cell_type": "markdown",
      "metadata": {
        "id": "r022TiDJCScS"
      },
      "source": [
        "# Visualization \n",
        "\n",
        "Reducing Dataset to 2 features only.\n",
        "\n",
        "Using Optimal Hyperparameters found in previous section."
      ]
    },
    {
      "cell_type": "code",
      "metadata": {
        "id": "dfw0Nm7ZpVlV"
      },
      "source": [
        "# Visualization \n",
        "\n",
        "%matplotlib inline\n",
        "import matplotlib.pyplot as plt\n",
        "def plot_contours(ax, clf, xx, yy, **params):\n",
        "  \"\"\"Plot the decision boundaries for a classifier.\n",
        "  Parameters\n",
        "  ----------\n",
        "  ax: matplotlib axes object\n",
        "  clf: a classifier\n",
        "  xx: meshgrid ndarray\n",
        "  yy: meshgrid ndarray\n",
        "  params: dictionary of params to pass to contourf, optional\n",
        "  \"\"\"\n",
        "  Z = clf.predict(np.c_[xx.ravel(), yy.ravel()])\n",
        "  Z = Z.reshape(xx.shape)\n",
        "  out = ax.contourf(xx, yy, Z, **params)\n",
        "  return out\n",
        "\n",
        "def make_meshgrid(x, y, h=.02):\n",
        "  x_min, x_max = x.min() - 1, x.max() + 1\n",
        "  y_min, y_max = y.min() - 1, y.max() + 1\n",
        "  xx, yy = np.meshgrid(np.arange(x_min, x_max, h),\n",
        "  np.arange(y_min, y_max, h))\n",
        "  return xx, yy\n",
        "\n",
        "\n"
      ],
      "execution_count": 22,
      "outputs": []
    },
    {
      "cell_type": "code",
      "metadata": {
        "id": "vOpYLNjQsBBU"
      },
      "source": [
        "# Reducing Dataset to 2 features to help Visualization\n",
        "iris_X = iris_X[:, :2]\n",
        "iris_X_test = iris_X_test[:, :2]\n"
      ],
      "execution_count": 25,
      "outputs": []
    },
    {
      "cell_type": "code",
      "metadata": {
        "colab": {
          "base_uri": "https://localhost:8080/",
          "height": 609
        },
        "id": "Xnfm93iQp_p3",
        "outputId": "7c19b8c9-33e2-4820-a8f1-44a99ce5746d"
      },
      "source": [
        "# Visualization \n",
        "svc = svm.SVC(kernel='rbf', gamma=optim_gamma, C=optim_c)\n",
        "pred = svc.fit(iris_X, iris_y)\n",
        "pred = svc.predict(iris_X)\n",
        "train_acc = sklearn.metrics.accuracy_score(iris_y, pred)\n",
        "print(f\"Train Accuracy: {train_acc*100:.2f}%\")\n",
        "\n",
        "U, V = iris_X[:, 0], iris_X[:, 1]\n",
        "xx, yy = make_meshgrid(U, V)\n",
        "figsize = 10\n",
        "fig = plt.figure(figsize=(figsize,figsize))\n",
        "ax = plt.subplot(111)\n",
        "plot_contours(ax, svc, xx, yy, cmap=plt.cm.coolwarm, alpha=0.8)\n",
        "ax.scatter(U, V, c=iris_y, cmap=plt.cm.coolwarm, s=20, edgecolors='k')\n",
        "ax.set_xlim(xx.min(), xx.max())\n",
        "\n",
        "ax.set_ylim(yy.min(), yy.max())\n",
        "plt.show()"
      ],
      "execution_count": 29,
      "outputs": [
        {
          "output_type": "stream",
          "text": [
            "Train Accuracy: 83.33%\n"
          ],
          "name": "stdout"
        },
        {
          "output_type": "display_data",
          "data": {
            "image/png": "[encoded data removed]",
            "text/plain": [
              "<Figure size 720x720 with 1 Axes>"
            ]
          },
          "metadata": {
            "tags": [],
            "needs_background": "light"
          }
        }
      ]
    }
  ]
}